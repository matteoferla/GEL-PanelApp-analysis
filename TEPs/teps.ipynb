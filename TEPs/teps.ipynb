{
 "cells": [
  {
   "cell_type": "code",
   "execution_count": 1,
   "metadata": {},
   "outputs": [],
   "source": [
    "teps='''WNK3\n",
    "AASS\n",
    "PARP14\n",
    "MLLT1\n",
    "HAO1\n",
    "HCN4\n",
    "NUDT7\n",
    "RIPK2\n",
    "FAM83A\n",
    "GALT\n",
    "CDK12\n",
    "PHIP\n",
    "HDAC6\n",
    "RECQL5\n",
    "JMJD1B\n",
    "JMJD2D\n",
    "SETDB1\n",
    "PfBDP4B\n",
    "LIMK1\n",
    "DPAGT1\n",
    "DCLRE1A\n",
    "TMEM16K\n",
    "TASK1\n",
    "SLC1A1\n",
    "STAG1\n",
    "TBXT\n",
    "KLHL20\n",
    "KEAP1\n",
    "KALRN\n",
    "ALAS2\n",
    "MTHFR\n",
    "RAC1\n",
    "FAM83B\n",
    "GALK\n",
    "MLLT3'''.split()"
   ]
  },
  {
   "cell_type": "code",
   "execution_count": 2,
   "metadata": {},
   "outputs": [],
   "source": [
    "import csv\n",
    "with open('../GEL-PanelApp-analysis/tally.csv','r') as fh:\n",
    "    tally = {t['uniprot']: t for t in csv.DictReader(fh)}"
   ]
  },
  {
   "cell_type": "code",
   "execution_count": 3,
   "metadata": {},
   "outputs": [],
   "source": [
    "import json\n",
    "namedex = json.load(open('data/human_prot_namedex.json','r'))"
   ]
  },
  {
   "cell_type": "code",
   "execution_count": 4,
   "metadata": {},
   "outputs": [
    {
     "ename": "NameError",
     "evalue": "name 'namedex' is not defined",
     "output_type": "error",
     "traceback": [
      "\u001b[0;31m---------------------------------------------------------------------------\u001b[0m",
      "\u001b[0;31mNameError\u001b[0m                                 Traceback (most recent call last)",
      "\u001b[0;32m<ipython-input-4-77db69a7e168>\u001b[0m in \u001b[0;36m<module>\u001b[0;34m\u001b[0m\n\u001b[1;32m      3\u001b[0m     \u001b[0mw\u001b[0m\u001b[0;34m.\u001b[0m\u001b[0mwriteheader\u001b[0m\u001b[0;34m(\u001b[0m\u001b[0;34m)\u001b[0m\u001b[0;34m\u001b[0m\u001b[0;34m\u001b[0m\u001b[0m\n\u001b[1;32m      4\u001b[0m     \u001b[0;32mfor\u001b[0m \u001b[0mp\u001b[0m \u001b[0;32min\u001b[0m \u001b[0mteps\u001b[0m\u001b[0;34m:\u001b[0m\u001b[0;34m\u001b[0m\u001b[0;34m\u001b[0m\u001b[0m\n\u001b[0;32m----> 5\u001b[0;31m         \u001b[0;32mif\u001b[0m \u001b[0mp\u001b[0m \u001b[0;32min\u001b[0m \u001b[0mnamedex\u001b[0m\u001b[0;34m:\u001b[0m\u001b[0;34m\u001b[0m\u001b[0;34m\u001b[0m\u001b[0m\n\u001b[0m\u001b[1;32m      6\u001b[0m             \u001b[0;32mif\u001b[0m \u001b[0mnamedex\u001b[0m\u001b[0;34m[\u001b[0m\u001b[0mp\u001b[0m\u001b[0;34m]\u001b[0m \u001b[0;32min\u001b[0m \u001b[0mtally\u001b[0m\u001b[0;34m:\u001b[0m\u001b[0;34m\u001b[0m\u001b[0;34m\u001b[0m\u001b[0m\n\u001b[1;32m      7\u001b[0m                 \u001b[0mdata\u001b[0m \u001b[0;34m=\u001b[0m \u001b[0mtally\u001b[0m\u001b[0;34m[\u001b[0m\u001b[0mnamedex\u001b[0m\u001b[0;34m[\u001b[0m\u001b[0mp\u001b[0m\u001b[0;34m]\u001b[0m\u001b[0;34m]\u001b[0m\u001b[0;34m\u001b[0m\u001b[0;34m\u001b[0m\u001b[0m\n",
      "\u001b[0;31mNameError\u001b[0m: name 'namedex' is not defined"
     ]
    }
   ],
   "source": [
    "with open('teps_panelApp_old.csv','w',newline='\\n') as fh:\n",
    "    w = csv.DictWriter(fh,fieldnames=['TEP_name', 'status']+list(tally['Q6ZN28'].keys()))\n",
    "    w.writeheader()\n",
    "    for p in teps:\n",
    "        if p in namedex:\n",
    "            if namedex[p] in tally:\n",
    "                data = tally[namedex[p]]\n",
    "                data['status'] = '✓ (in PanelApp)'\n",
    "                data['TEP_name'] = p\n",
    "            else:\n",
    "                data = {'TEP_name': p, 'status': '✗ (not in PanelApp)'}\n",
    "        else:\n",
    "            data = {'TEP_name': p, 'status': '‼ (not a valid gene name)'}\n",
    "        w.writerow(data)\n",
    "print('Done.')"
   ]
  },
  {
   "cell_type": "code",
   "execution_count": 4,
   "metadata": {},
   "outputs": [],
   "source": [
    "import json, csv\n",
    "\n",
    "from warnings import warn\n",
    "\n",
    "from collections import Counter\n",
    "from Bio.SeqUtils.ProtParam import ProteinAnalysis\n",
    "import os\n",
    "\n",
    "from multiprocessing.pool import ThreadPool as Pool\n",
    "from threading import Lock\n",
    "\n",
    "from pprint import PrettyPrinter\n",
    "pprint = PrettyPrinter().pprint\n",
    "\n",
    "from protein.generate import ProteinGatherer\n",
    "Protein = ProteinGatherer"
   ]
  },
  {
   "cell_type": "code",
   "execution_count": 5,
   "metadata": {},
   "outputs": [
    {
     "name": "stdout",
     "output_type": "stream",
     "text": [
      "WNK3 (1/35)\n",
      "AASS (2/35)\n",
      "PARP14 (3/35)\n",
      "needs parsing\n"
     ]
    },
    {
     "name": "stderr",
     "output_type": "stream",
     "text": [
      "/home/matteo/Coding/protein-module-for-VENUS/protein/generate/_protein_gatherer.py:585: UserWarning: error arose in %modelled...'Structure' object is not subscriptable\n",
      "  warn(f'error arose in %modelled...{err}')\n",
      "/home/matteo/Coding/protein-module-for-VENUS/protein/generate/_protein_base_mixin.py:36: UserWarning: Accessed non-existant attribute ensembl for Protein instance. Likely cause the code changed, but the from_pickle flag is True.\n",
      "  warn('Accessed non-existant attribute {item} for Protein instance. Likely cause the code changed, but the from_pickle flag is True.'.format(v=self, item=item))\n"
     ]
    },
    {
     "name": "stdout",
     "output_type": "stream",
     "text": [
      "MLLT1 (4/35)\n",
      "needs parsing\n",
      "HAO1 (5/35)\n",
      "needs parsing\n",
      "HCN4 (6/35)\n",
      "NUDT7 (7/35)\n",
      "needs parsing\n",
      "RIPK2 (8/35)\n",
      "needs parsing\n",
      "FAM83A (9/35)\n",
      "needs parsing\n",
      "GALT (10/35)\n",
      "CDK12 (11/35)\n",
      "needs parsing\n",
      "PHIP (12/35)\n",
      "HDAC6 (13/35)\n",
      "RECQL5 (14/35)\n",
      "needs parsing\n",
      "JMJD1B (15/35)\n",
      "JMJD2D (16/35)\n",
      "needs parsing\n",
      "SETDB1 (17/35)\n",
      "needs parsing\n",
      "LIMK1 (19/35)\n",
      "DPAGT1 (20/35)\n",
      "DCLRE1A (21/35)\n",
      "needs parsing\n",
      "TMEM16K (22/35)\n",
      "TASK1 (23/35)\n",
      "SLC1A1 (24/35)\n",
      "needs parsing\n",
      "STAG1 (25/35)\n",
      "TBXT (26/35)\n",
      "KLHL20 (27/35)\n",
      "needs parsing\n",
      "KEAP1 (28/35)\n",
      "needs parsing\n",
      "KALRN (29/35)\n",
      "needs parsing\n",
      "ALAS2 (30/35)\n",
      "MTHFR (31/35)\n",
      "RAC1 (32/35)\n",
      "FAM83B (33/35)\n",
      "needs parsing\n",
      "GALK (34/35)\n",
      "MLLT3 (35/35)\n",
      "needs parsing\n",
      "Done.\n"
     ]
    }
   ],
   "source": [
    "#name\tfull_name\ttally\tpanel\tensembl\tlocation\tuniprot\ttags\tOMIM\tpanels\t\n",
    "#panel_names\tdisease_group\tdisease_sub_group\tmode_of_inheritance\tconfidence_level\tlen\t\n",
    "#pLI\tpRec\tpNull\t%modelled\n",
    "#name\tfull_name\ttally\tpanel\tensembl\n",
    "\n",
    "keys = ('uniprot', 'pLI', 'pRec', 'pNull','ensembl')\n",
    "def get_data(name):\n",
    "    data = {}\n",
    "    data['name'] = name\n",
    "    protein = Protein(gene_name=name)\n",
    "    if name in namedex:\n",
    "        protein.uniprot = namedex[name]\n",
    "        data['uniprot'] = protein.uniprot\n",
    "    else:\n",
    "        protein.uniprot = 'ERROR'\n",
    "        return data\n",
    "    try:\n",
    "        protein.parse_uniprot()\n",
    "        protein.parse_pLI()\n",
    "        protein.parse_swissmodel()\n",
    "    except ValueError as err:\n",
    "        print(str(err))\n",
    "    data = {'%modelled': protein.get_percent_modelled(),\n",
    "            'name': protein.gene_name,\n",
    "            'ensembl': protein.ENSG,\n",
    "            'full_name': protein.recommended_name,\n",
    "            **{k: getattr(protein, k) for k in keys}}\n",
    "    return data\n",
    "\n",
    "with open('teps_panelApp.csv','w',newline='\\n') as fh:\n",
    "    w = csv.DictWriter(fh,fieldnames=['TEP_name', 'status']+list(tally['Q6ZN28'].keys()))\n",
    "    w.writeheader()\n",
    "    n=0\n",
    "    for p in teps:\n",
    "        n+=1\n",
    "        if p in namedex:\n",
    "            print(f'{p} ({n}/{len(teps)})')\n",
    "            if namedex[p] in tally:\n",
    "                data = tally[namedex[p]]\n",
    "                data['status'] = '✓ (in PanelApp)'\n",
    "                data['TEP_name'] = p\n",
    "            else:\n",
    "                print('needs parsing')\n",
    "                data = {'TEP_name': p, 'status': '✗ (not in PanelApp)', **get_data(p)}\n",
    "                \n",
    "        else:\n",
    "            data = {'TEP_name': p, 'status': '‼ (not a valid gene name)'}\n",
    "        w.writerow(data)\n",
    "print('Done.')"
   ]
  },
  {
   "cell_type": "code",
   "execution_count": null,
   "metadata": {},
   "outputs": [],
   "source": []
  }
 ],
 "metadata": {
  "kernelspec": {
   "display_name": "Python 3",
   "language": "python",
   "name": "python3"
  },
  "language_info": {
   "codemirror_mode": {
    "name": "ipython",
    "version": 3
   },
   "file_extension": ".py",
   "mimetype": "text/x-python",
   "name": "python",
   "nbconvert_exporter": "python",
   "pygments_lexer": "ipython3",
   "version": "3.7.3"
  }
 },
 "nbformat": 4,
 "nbformat_minor": 2
}
